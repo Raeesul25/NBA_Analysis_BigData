{
  "nbformat": 4,
  "nbformat_minor": 0,
  "metadata": {
    "colab": {
      "provenance": [],
      "gpuType": "T4"
    },
    "kernelspec": {
      "name": "python3",
      "display_name": "Python 3"
    },
    "language_info": {
      "name": "python"
    },
    "accelerator": "GPU"
  },
  "cells": [
    {
      "cell_type": "code",
      "execution_count": 1,
      "metadata": {
        "colab": {
          "base_uri": "https://localhost:8080/"
        },
        "id": "YUpqlzJVrq__",
        "outputId": "21d09184-8e62-46e6-9837-535ff139b8a0"
      },
      "outputs": [
        {
          "output_type": "stream",
          "name": "stdout",
          "text": [
            "Mounted at /content/drive\n"
          ]
        }
      ],
      "source": [
        "from google.colab import drive\n",
        "drive.mount('/content/drive')"
      ]
    },
    {
      "cell_type": "code",
      "source": [
        "!ls \"/content/drive/MyDrive/BDP-Spark/\""
      ],
      "metadata": {
        "colab": {
          "base_uri": "https://localhost:8080/"
        },
        "id": "cXenuXnvsbX_",
        "outputId": "a3d5a3e6-60fc-480d-8bc7-7c82f64eaf81"
      },
      "execution_count": 2,
      "outputs": [
        {
          "output_type": "stream",
          "name": "stdout",
          "text": [
            "NBA-data.csv  Task-2-Spark.ipynb  Task-3-Spark-ML.ipynb\n"
          ]
        }
      ]
    },
    {
      "cell_type": "code",
      "source": [
        "!pip install pyspark"
      ],
      "metadata": {
        "colab": {
          "base_uri": "https://localhost:8080/"
        },
        "id": "M7eZ_JNgtd7u",
        "outputId": "1f75f6d2-2015-494b-e10b-1c379f2de1b8"
      },
      "execution_count": 3,
      "outputs": [
        {
          "output_type": "stream",
          "name": "stdout",
          "text": [
            "Requirement already satisfied: pyspark in /usr/local/lib/python3.10/dist-packages (3.5.3)\n",
            "Requirement already satisfied: py4j==0.10.9.7 in /usr/local/lib/python3.10/dist-packages (from pyspark) (0.10.9.7)\n"
          ]
        }
      ]
    },
    {
      "cell_type": "code",
      "source": [
        "from pyspark.sql import SparkSession\n",
        "\n",
        "# Initialize the spark session\n",
        "spark = SparkSession.builder.appName(\"NBA-Analysis\").getOrCreate()\n",
        "spark"
      ],
      "metadata": {
        "colab": {
          "base_uri": "https://localhost:8080/",
          "height": 219
        },
        "id": "0a-bZMi7tRLN",
        "outputId": "be041ad4-b6c5-4ff1-f142-5124c65b2c54"
      },
      "execution_count": 4,
      "outputs": [
        {
          "output_type": "execute_result",
          "data": {
            "text/plain": [
              "<pyspark.sql.session.SparkSession at 0x7c373a55b760>"
            ],
            "text/html": [
              "\n",
              "            <div>\n",
              "                <p><b>SparkSession - in-memory</b></p>\n",
              "                \n",
              "        <div>\n",
              "            <p><b>SparkContext</b></p>\n",
              "\n",
              "            <p><a href=\"http://323b1459acb6:4040\">Spark UI</a></p>\n",
              "\n",
              "            <dl>\n",
              "              <dt>Version</dt>\n",
              "                <dd><code>v3.5.3</code></dd>\n",
              "              <dt>Master</dt>\n",
              "                <dd><code>local[*]</code></dd>\n",
              "              <dt>AppName</dt>\n",
              "                <dd><code>NBA-Analysis</code></dd>\n",
              "            </dl>\n",
              "        </div>\n",
              "        \n",
              "            </div>\n",
              "        "
            ]
          },
          "metadata": {},
          "execution_count": 4
        }
      ]
    },
    {
      "cell_type": "code",
      "source": [
        "# load the data\n",
        "data = spark.read.csv(\"/content/drive/MyDrive/BDP-Spark/NBA-data.csv\", header=True, inferSchema=True)\n",
        "data.show()"
      ],
      "metadata": {
        "colab": {
          "base_uri": "https://localhost:8080/"
        },
        "id": "Px8WmrrcudyV",
        "outputId": "582d6f3c-a664-4b84-d270-8bdf0cb065b1"
      },
      "execution_count": 5,
      "outputs": [
        {
          "output_type": "stream",
          "name": "stdout",
          "text": [
            "+-------+--------+--------+--------------------+-------------------+------+----------+----------------+-------------------------+-----------------+---------------+---------------------+----------+------------+-------------------------+-----------------+---------------+---------------------+----------+-------------+-------------------------+-----------------+---------------+---------------------+------+-----------+--------------------+-------------+-------------+------+------+\n",
            "|EVENTID|EVENTNUM| GAME_ID|     HOMEDESCRIPTION|       PCTIMESTRING|PERIOD|PLAYER1_ID|    PLAYER1_NAME|PLAYER1_TEAM_ABBREVIATION|PLAYER1_TEAM_CITY|PLAYER1_TEAM_ID|PLAYER1_TEAM_NICKNAME|PLAYER2_ID|PLAYER2_NAME|PLAYER2_TEAM_ABBREVIATION|PLAYER2_TEAM_CITY|PLAYER2_TEAM_ID|PLAYER2_TEAM_NICKNAME|PLAYER3_ID| PLAYER3_NAME|PLAYER3_TEAM_ABBREVIATION|PLAYER3_TEAM_CITY|PLAYER3_TEAM_ID|PLAYER3_TEAM_NICKNAME| SCORE|SCOREMARGIN|  VISITORDESCRIPTION|CLEANED_SCORE|POINTS_SCORED|WINNER| LOSER|\n",
            "+-------+--------+--------+--------------------+-------------------+------+----------+----------------+-------------------------+-----------------+---------------+---------------------+----------+------------+-------------------------+-----------------+---------------+---------------------+----------+-------------+-------------------------+-----------------+---------------+---------------------+------+-----------+--------------------+-------------+-------------+------+------+\n",
            "|      0|       0|20000001|                NULL|2024-12-14 12:00:00|     1|         0|            NULL|                     NULL|             NULL|           NULL|                 NULL|         0|        NULL|                     NULL|             NULL|           NULL|                 NULL|         0|         NULL|                     NULL|             NULL|           NULL|                 NULL|  NULL|       NULL|                NULL|         NULL|            0| 76ers|Knicks|\n",
            "|      1|       1|20000001|Jump Ball Camby v...|2024-12-14 12:00:00|     1|       948|    Marcus Camby|                      NYK|         New York|     1610612752|               Knicks|       689|Theo Ratliff|                      PHI|     Philadelphia|     1610612755|                76ers|       275|Allan Houston|                      NYK|         New York|     1610612752|               Knicks|  NULL|       NULL|                NULL|         NULL|            0| 76ers|Knicks|\n",
            "|      2|       2|20000001|MISS Sprewell 6' ...|2024-12-14 11:41:00|     1|        84|Latrell Sprewell|                      NYK|         New York|     1610612752|               Knicks|         0|        NULL|                     NULL|             NULL|           NULL|                 NULL|       689| Theo Ratliff|                      PHI|     Philadelphia|     1610612755|                76ers|  NULL|       NULL|Ratliff BLOCK (1 ...|         NULL|            0| 76ers|Knicks|\n",
            "|      3|       3|20000001|                NULL|2024-12-14 11:40:00|     1|1610612755|            NULL|                     NULL|             NULL|           NULL|                 NULL|         0|        NULL|                     NULL|             NULL|           NULL|                 NULL|         0|         NULL|                     NULL|             NULL|           NULL|                 NULL|  NULL|       NULL|       76ers Rebound|         NULL|            0| 76ers|Knicks|\n",
            "|      4|       4|20000001|Camby S.FOUL (P1.T1)|2024-12-14 11:29:00|     1|       948|    Marcus Camby|                      NYK|         New York|     1610612752|               Knicks|         0|        NULL|                     NULL|             NULL|           NULL|                 NULL|         0|         NULL|                     NULL|             NULL|           NULL|                 NULL|  NULL|       NULL|                NULL|         NULL|            0| 76ers|Knicks|\n",
            "|      5|       5|20000001|                NULL|2024-12-14 11:29:00|     1|       689|    Theo Ratliff|                      PHI|     Philadelphia|     1610612755|                76ers|         0|        NULL|                     NULL|             NULL|           NULL|                 NULL|         0|         NULL|                     NULL|             NULL|           NULL|                 NULL|Jan-00|         -1|Ratliff Free Thro...|         1-00|            1| 76ers|Knicks|\n",
            "|      6|       6|20000001|                NULL|2024-12-14 11:29:00|     1|       689|    Theo Ratliff|                      PHI|     Philadelphia|     1610612755|                76ers|         0|        NULL|                     NULL|             NULL|           NULL|                 NULL|         0|         NULL|                     NULL|             NULL|           NULL|                 NULL|  NULL|       NULL|MISS Ratliff Free...|         NULL|            0| 76ers|Knicks|\n",
            "|      7|       7|20000001|Ward REBOUND (Off...|2024-12-14 11:28:00|     1|       369|    Charlie Ward|                      NYK|         New York|     1610612752|               Knicks|         0|        NULL|                     NULL|             NULL|           NULL|                 NULL|         0|         NULL|                     NULL|             NULL|           NULL|                 NULL|  NULL|       NULL|                NULL|         NULL|            0| 76ers|Knicks|\n",
            "|      8|       8|20000001|                NULL|2024-12-14 11:18:00|     1|       689|    Theo Ratliff|                      PHI|     Philadelphia|     1610612755|                76ers|         0|        NULL|                     NULL|             NULL|           NULL|                 NULL|         0|         NULL|                     NULL|             NULL|           NULL|                 NULL|  NULL|       NULL|Ratliff S.FOUL (P...|         NULL|            0| 76ers|Knicks|\n",
            "|      9|       9|20000001|Camby Free Throw ...|2024-12-14 11:18:00|     1|       948|    Marcus Camby|                      NYK|         New York|     1610612752|               Knicks|         0|        NULL|                     NULL|             NULL|           NULL|                 NULL|         0|         NULL|                     NULL|             NULL|           NULL|                 NULL| 1-Jan|        TIE|                NULL|          1-1|            1| 76ers|Knicks|\n",
            "|     10|      10|20000001|Camby Free Throw ...|2024-12-14 11:18:00|     1|       948|    Marcus Camby|                      NYK|         New York|     1610612752|               Knicks|         0|        NULL|                     NULL|             NULL|           NULL|                 NULL|         0|         NULL|                     NULL|             NULL|           NULL|                 NULL| 2-Jan|          1|                NULL|          2-1|            1| 76ers|Knicks|\n",
            "|     11|      11|20000001|                NULL|2024-12-14 11:08:00|     1|       947|   Allen Iverson|                      PHI|     Philadelphia|     1610612755|                76ers|         0|        NULL|                     NULL|             NULL|           NULL|                 NULL|         0|         NULL|                     NULL|             NULL|           NULL|                 NULL|  NULL|       NULL|MISS Iverson 20' ...|         NULL|            0| 76ers|Knicks|\n",
            "|     12|      12|20000001|Camby REBOUND (Of...|2024-12-14 11:06:00|     1|       948|    Marcus Camby|                      NYK|         New York|     1610612752|               Knicks|         0|        NULL|                     NULL|             NULL|           NULL|                 NULL|         0|         NULL|                     NULL|             NULL|           NULL|                 NULL|  NULL|       NULL|                NULL|         NULL|            0| 76ers|Knicks|\n",
            "|     13|      13|20000001|MISS Houston 15' ...|2024-12-14 10:53:00|     1|       275|   Allan Houston|                      NYK|         New York|     1610612752|               Knicks|         0|        NULL|                     NULL|             NULL|           NULL|                 NULL|         0|         NULL|                     NULL|             NULL|           NULL|                 NULL|  NULL|       NULL|                NULL|         NULL|            0| 76ers|Knicks|\n",
            "|     14|      14|20000001|Ward REBOUND (Off...|2024-12-14 10:50:00|     1|       369|    Charlie Ward|                      NYK|         New York|     1610612752|               Knicks|         0|        NULL|                     NULL|             NULL|           NULL|                 NULL|         0|         NULL|                     NULL|             NULL|           NULL|                 NULL|  NULL|       NULL|                NULL|         NULL|            0| 76ers|Knicks|\n",
            "|     15|      15|20000001|Ward Bad Pass Tur...|2024-12-14 10:49:00|     1|       369|    Charlie Ward|                      NYK|         New York|     1610612752|               Knicks|         0|        NULL|                     NULL|             NULL|           NULL|                 NULL|         0|         NULL|                     NULL|             NULL|           NULL|                 NULL|  NULL|       NULL|                NULL|         NULL|            0| 76ers|Knicks|\n",
            "|     16|      16|20000001|                NULL|2024-12-14 10:35:00|     1|       238|     Tyrone Hill|                      PHI|     Philadelphia|     1610612755|                76ers|         0|        NULL|                     NULL|             NULL|           NULL|                 NULL|         0|         NULL|                     NULL|             NULL|           NULL|                 NULL|  NULL|       NULL|MISS Hill 10' Jum...|         NULL|            0| 76ers|Knicks|\n",
            "|     17|      17|20000001|Sprewell REBOUND ...|2024-12-14 10:34:00|     1|        84|Latrell Sprewell|                      NYK|         New York|     1610612752|               Knicks|         0|        NULL|                     NULL|             NULL|           NULL|                 NULL|         0|         NULL|                     NULL|             NULL|           NULL|                 NULL|  NULL|       NULL|                NULL|         NULL|            0| 76ers|Knicks|\n",
            "|     18|      18|20000001|MISS Sprewell 14'...|2024-12-14 10:19:00|     1|        84|Latrell Sprewell|                      NYK|         New York|     1610612752|               Knicks|         0|        NULL|                     NULL|             NULL|           NULL|                 NULL|         0|         NULL|                     NULL|             NULL|           NULL|                 NULL|  NULL|       NULL|                NULL|         NULL|            0| 76ers|Knicks|\n",
            "|     19|      19|20000001|                NULL|2024-12-14 10:18:00|     1|       248|    George Lynch|                      PHI|     Philadelphia|     1610612755|                76ers|         0|        NULL|                     NULL|             NULL|           NULL|                 NULL|         0|         NULL|                     NULL|             NULL|           NULL|                 NULL|  NULL|       NULL|Lynch REBOUND (Of...|         NULL|            0| 76ers|Knicks|\n",
            "+-------+--------+--------+--------------------+-------------------+------+----------+----------------+-------------------------+-----------------+---------------+---------------------+----------+------------+-------------------------+-----------------+---------------+---------------------+----------+-------------+-------------------------+-----------------+---------------+---------------------+------+-----------+--------------------+-------------+-------------+------+------+\n",
            "only showing top 20 rows\n",
            "\n"
          ]
        }
      ]
    },
    {
      "cell_type": "markdown",
      "source": [
        "# Task 2 - Q3 - Spark Analysis"
      ],
      "metadata": {
        "id": "FgbHcqsxHsA3"
      }
    },
    {
      "cell_type": "code",
      "source": [
        "# import necessary libraries\n",
        "from pyspark.sql.functions import col, udf, when, lit\n",
        "from pyspark.sql.types import IntegerType, StringType, ArrayType, StructType, StructField\n",
        "from pyspark.sql import functions as F\n",
        "from pyspark.sql.window import Window"
      ],
      "metadata": {
        "id": "seqmeuLluLx5"
      },
      "execution_count": 6,
      "outputs": []
    },
    {
      "cell_type": "markdown",
      "source": [
        "## Preprocessing Data"
      ],
      "metadata": {
        "id": "2L7ZZguFIb8r"
      }
    },
    {
      "cell_type": "code",
      "source": [
        "# function for clean the score\n",
        "def clean_score(score):\n",
        "  # handle null score\n",
        "  if score is None:\n",
        "    return None\n",
        "  if isinstance(score, str):\n",
        "    month_mapping = {'Jan': '1', 'Feb': '2', 'Mar': '3', 'Apr': '4',\n",
        "                     'May': '5', 'Jun': '6', 'Jul': '7', 'Aug': '8',\n",
        "                     'Sep': '9', 'Oct': '10', 'Nov': '11', 'Dec': '12'}\n",
        "    parts = score.split('-')\n",
        "    if parts[0] in month_mapping:\n",
        "      return f\"{month_mapping[parts[0]]}-{parts[1]}\"\n",
        "    elif parts[1] in month_mapping:\n",
        "      return f\"{parts[0]}-{month_mapping[parts[1]]}\"\n",
        "\n",
        "    return score if '-' in score else None\n",
        "\n",
        "  return None"
      ],
      "metadata": {
        "id": "DtkEslixuYoS"
      },
      "execution_count": 7,
      "outputs": []
    },
    {
      "cell_type": "code",
      "source": [
        "# Apply cleaning function to the DataFrame\n",
        "data = data.withColumn(\"CLEANED_SCORE\", F.udf(clean_score,\n",
        "                                              StringType())(data['SCORE']))\n",
        "\n",
        "# Filter out rows where CLEANED_SCORE is null\n",
        "cleaned_data = data.filter(data['CLEANED_SCORE'].isNotNull())\n",
        "\n",
        "# Create a window specification to partition by GAME_ID and order by EVENTID\n",
        "window_spec = Window.partitionBy(\"GAME_ID\").orderBy(\"EVENTID\")\n",
        "\n",
        "# Initialize the previous score by using lag() function to get previous CLEANED_SCORE value\n",
        "cleaned_data = cleaned_data.withColumn(\"PREVIOUS_SCORE\",\n",
        "                                       F.lag(\"CLEANED_SCORE\").over(window_spec))"
      ],
      "metadata": {
        "id": "sy6mMYWhwAQv"
      },
      "execution_count": 8,
      "outputs": []
    },
    {
      "cell_type": "code",
      "source": [
        "print(cleaned_data)"
      ],
      "metadata": {
        "colab": {
          "base_uri": "https://localhost:8080/"
        },
        "id": "HVd5eV6J1IF4",
        "outputId": "28f93910-ca89-4e38-a090-b447fc09b7d0"
      },
      "execution_count": 9,
      "outputs": [
        {
          "output_type": "stream",
          "name": "stdout",
          "text": [
            "DataFrame[EVENTID: int, EVENTNUM: int, GAME_ID: int, HOMEDESCRIPTION: string, PCTIMESTRING: timestamp, PERIOD: int, PLAYER1_ID: int, PLAYER1_NAME: string, PLAYER1_TEAM_ABBREVIATION: string, PLAYER1_TEAM_CITY: string, PLAYER1_TEAM_ID: int, PLAYER1_TEAM_NICKNAME: string, PLAYER2_ID: int, PLAYER2_NAME: string, PLAYER2_TEAM_ABBREVIATION: string, PLAYER2_TEAM_CITY: string, PLAYER2_TEAM_ID: int, PLAYER2_TEAM_NICKNAME: string, PLAYER3_ID: int, PLAYER3_NAME: string, PLAYER3_TEAM_ABBREVIATION: string, PLAYER3_TEAM_CITY: string, PLAYER3_TEAM_ID: int, PLAYER3_TEAM_NICKNAME: string, SCORE: string, SCOREMARGIN: string, VISITORDESCRIPTION: string, CLEANED_SCORE: string, POINTS_SCORED: int, WINNER: string, LOSER: string, PREVIOUS_SCORE: string]\n"
          ]
        }
      ]
    },
    {
      "cell_type": "code",
      "source": [
        "# Function to calculate play score using UDF\n",
        "def calculate_play_score(df):\n",
        "  # inner function for calculate score\n",
        "  def calculate_score(cleaned_score, previous_score):\n",
        "    # If score is None, play score is 0\n",
        "    if cleaned_score is None:\n",
        "      return 0\n",
        "    # First valid score, return sum of current score\n",
        "    if previous_score is None:\n",
        "      team1, team2 = map(int, cleaned_score.split('-'))\n",
        "      return team1 + team2\n",
        "    else:\n",
        "      # Calculate difference between previous and current score\n",
        "      previous_team1, previous_team2 = map(int, previous_score.split('-')) if previous_score else (0, 0)\n",
        "      current_team1, current_team2 = map(int, cleaned_score.split('-'))\n",
        "      return (current_team1 - previous_team1) + (current_team2 - previous_team2)\n",
        "\n",
        "  # Create a UDF to apply the score calculation function row-wise\n",
        "  calculate_score_udf = F.udf(calculate_score, IntegerType())\n",
        "\n",
        "  return df.withColumn(\"PLAY_SCORE\", calculate_score_udf(df['CLEANED_SCORE'], df['PREVIOUS_SCORE']))"
      ],
      "metadata": {
        "id": "HjBVP7lSxnBJ"
      },
      "execution_count": 10,
      "outputs": []
    },
    {
      "cell_type": "code",
      "source": [
        "# Apply the play score calculation\n",
        "cleaned_data = calculate_play_score(cleaned_data)\n",
        "\n",
        "# Show the result\n",
        "cleaned_data.select(\"GAME_ID\", \"EVENTID\", \"PLAYER1_NAME\", \"PLAYER1_TEAM_NICKNAME\", \"SCORE\",\n",
        "                    \"CLEANED_SCORE\", \"PREVIOUS_SCORE\", \"PLAY_SCORE\").show(truncate=False)"
      ],
      "metadata": {
        "colab": {
          "base_uri": "https://localhost:8080/"
        },
        "id": "ChPLTPy1y5UX",
        "outputId": "c4cbfb37-f839-47b1-91ae-ebdc32047ac6"
      },
      "execution_count": 11,
      "outputs": [
        {
          "output_type": "stream",
          "name": "stdout",
          "text": [
            "+--------+-------+----------------+---------------------+-------+-------------+--------------+----------+\n",
            "|GAME_ID |EVENTID|PLAYER1_NAME    |PLAYER1_TEAM_NICKNAME|SCORE  |CLEANED_SCORE|PREVIOUS_SCORE|PLAY_SCORE|\n",
            "+--------+-------+----------------+---------------------+-------+-------------+--------------+----------+\n",
            "|20000001|5      |Theo Ratliff    |76ers                |Jan-00 |1-00         |NULL          |1         |\n",
            "|20000001|9      |Marcus Camby    |Knicks               |1-Jan  |1-1          |1-00          |1         |\n",
            "|20000001|10     |Marcus Camby    |Knicks               |2-Jan  |2-1          |1-1           |1         |\n",
            "|20000001|20     |Theo Ratliff    |76ers                |2-Mar  |2-3          |2-1           |2         |\n",
            "|20000001|21     |Allan Houston   |Knicks               |4-Mar  |4-3          |2-3           |2         |\n",
            "|20000001|27     |Theo Ratliff    |76ers                |4-May  |4-5          |4-3           |2         |\n",
            "|20000001|30     |Eric Snow       |76ers                |4-Jul  |4-7          |4-5           |2         |\n",
            "|20000001|31     |Allan Houston   |Knicks               |7-Jul  |7-7          |4-7           |3         |\n",
            "|20000001|32     |Allen Iverson   |76ers                |7-Sep  |7-9          |7-7           |2         |\n",
            "|20000001|33     |Allan Houston   |Knicks               |9-Sep  |9-9          |7-9           |2         |\n",
            "|20000001|38     |Allen Iverson   |76ers                |9-Oct  |9-10         |9-9           |1         |\n",
            "|20000001|39     |Allen Iverson   |76ers                |9-Nov  |9-11         |9-10          |1         |\n",
            "|20000001|48     |George Lynch    |76ers                |13 - 9 |13 - 9       |9-11          |2         |\n",
            "|20000001|49     |Larry Johnson   |Knicks               |13 - 11|13 - 11      |13 - 9        |2         |\n",
            "|20000001|53     |Charlie Ward    |Knicks               |13 - 13|13 - 13      |13 - 11       |2         |\n",
            "|20000001|64     |Latrell Sprewell|Knicks               |13 - 15|13 - 15      |13 - 13       |2         |\n",
            "|20000001|67     |Allen Iverson   |76ers                |14 - 15|14 - 15      |13 - 15       |1         |\n",
            "|20000001|69     |Allen Iverson   |76ers                |15 - 15|15 - 15      |14 - 15       |1         |\n",
            "|20000001|71     |Eric Snow       |76ers                |17 - 15|17 - 15      |15 - 15       |2         |\n",
            "|20000001|74     |Eric Snow       |76ers                |18 - 15|18 - 15      |17 - 15       |1         |\n",
            "+--------+-------+----------------+---------------------+-------+-------------+--------------+----------+\n",
            "only showing top 20 rows\n",
            "\n"
          ]
        }
      ]
    },
    {
      "cell_type": "markdown",
      "source": [
        "## 1. Percentage of players who scored 40 or more points in a single game"
      ],
      "metadata": {
        "id": "M2FU_2ZY2t0X"
      }
    },
    {
      "cell_type": "code",
      "source": [
        "# Group by PLAYER1_NAME and GAME_ID and calculate the total points\n",
        "player_score = cleaned_data.groupBy(\"PLAYER1_NAME\" , \"GAME_ID\").agg(\n",
        "    F.sum(\"PLAY_SCORE\").alias(\"TOTAL_POINTS\")\n",
        ")"
      ],
      "metadata": {
        "id": "w40YZdDQIrED"
      },
      "execution_count": 12,
      "outputs": []
    },
    {
      "cell_type": "code",
      "source": [
        "# filter player score 40 or more\n",
        "filter_players = player_score.filter(player_score.TOTAL_POINTS >= 40)"
      ],
      "metadata": {
        "id": "cLWxIt9827WW"
      },
      "execution_count": 13,
      "outputs": []
    },
    {
      "cell_type": "code",
      "source": [
        "# number of players\n",
        "no_of_players = data.filter(col(\"PLAYER1_NAME\").isNotNull()).select(\"PLAYER1_NAME\").distinct().count()"
      ],
      "metadata": {
        "id": "yKf0Cy963Ssj"
      },
      "execution_count": 14,
      "outputs": []
    },
    {
      "cell_type": "code",
      "source": [
        "# filter unique players who scored 40 or more points\n",
        "filter_players_count = filter_players.filter(col(\"PLAYER1_NAME\").isNotNull())\\\n",
        ".select(\"PLAYER1_NAME\").distinct().count()"
      ],
      "metadata": {
        "id": "iI_qh2K23jfw"
      },
      "execution_count": 15,
      "outputs": []
    },
    {
      "cell_type": "code",
      "source": [
        "# Percentage of players who scored 40 or more points\n",
        "player_percentage = (filter_players_count / no_of_players) * 100\n",
        "\n",
        "print(f\"The Percentage of players who scored 40 or more points in a single game: {player_percentage:.2f}%\")"
      ],
      "metadata": {
        "colab": {
          "base_uri": "https://localhost:8080/"
        },
        "id": "A1Siq2ql2fra",
        "outputId": "4d57e609-63fe-437e-87cd-8f5fa478f65e"
      },
      "execution_count": 17,
      "outputs": [
        {
          "output_type": "stream",
          "name": "stdout",
          "text": [
            "The Percentage of players who scored 40 or more points in a single game: 6.36%\n"
          ]
        }
      ]
    },
    {
      "cell_type": "markdown",
      "source": [
        "## 2. The total number of matches lost by each team."
      ],
      "metadata": {
        "id": "Chpr6Z9S4hP6"
      }
    },
    {
      "cell_type": "code",
      "source": [
        "# Group by GAME_ID and PLAYER1_TEAM_NICKNAME\n",
        "# after calculate the sum of PLAY_SCORE for each team\n",
        "game_scores = cleaned_data.groupBy(\"GAME_ID\", \"PLAYER1_TEAM_NICKNAME\").agg(\n",
        "    F.sum(\"PLAY_SCORE\").alias(\"TOTAL_SCORE\")\n",
        ")"
      ],
      "metadata": {
        "id": "RY9gZ8xb4LlI"
      },
      "execution_count": 18,
      "outputs": []
    },
    {
      "cell_type": "code",
      "source": [
        "# window function to rank the teams within each game by their total score\n",
        "window_spec = Window.partitionBy(\"GAME_ID\").orderBy(F.col(\"TOTAL_SCORE\").desc())"
      ],
      "metadata": {
        "id": "b5tTcv6R42-y"
      },
      "execution_count": 19,
      "outputs": []
    },
    {
      "cell_type": "code",
      "source": [
        "# Add a column to rank teams based on their total score within each game\n",
        "game_scores = game_scores.withColumn(\"RANK\", F.row_number().over(window_spec))"
      ],
      "metadata": {
        "id": "OE7m_LSJ48_X"
      },
      "execution_count": 20,
      "outputs": []
    },
    {
      "cell_type": "code",
      "source": [
        "# identify the winner and loser\n",
        "game_results = game_scores.withColumn(\n",
        "    \"RESULT\",\n",
        "    F.when(F.col(\"RANK\") == 1, \"Winner\").otherwise(\"Loser\")\n",
        ")"
      ],
      "metadata": {
        "id": "2ZlftWne4Mx0"
      },
      "execution_count": 21,
      "outputs": []
    },
    {
      "cell_type": "code",
      "source": [
        "# filter using PLAYER1_TEAM_NICKNAME\n",
        "game_results = game_results.filter((F.col(\"PLAYER1_TEAM_NICKNAME\").isNotNull()))\n",
        "game_results.show(truncate=False)"
      ],
      "metadata": {
        "colab": {
          "base_uri": "https://localhost:8080/"
        },
        "id": "QTkF9C7y5MzH",
        "outputId": "5e8935d5-9d39-4511-95d8-b721902e4611"
      },
      "execution_count": 22,
      "outputs": [
        {
          "output_type": "stream",
          "name": "stdout",
          "text": [
            "+--------+---------------------+-----------+----+------+\n",
            "|GAME_ID |PLAYER1_TEAM_NICKNAME|TOTAL_SCORE|RANK|RESULT|\n",
            "+--------+---------------------+-----------+----+------+\n",
            "|20000001|76ers                |101        |1   |Winner|\n",
            "|20000001|Knicks               |72         |2   |Loser |\n",
            "|20000002|Cavaliers            |86         |1   |Winner|\n",
            "|20000002|Nets                 |82         |2   |Loser |\n",
            "|20000003|Magic                |97         |1   |Winner|\n",
            "|20000003|Wizards              |86         |2   |Loser |\n",
            "|20000004|Hornets              |106        |1   |Winner|\n",
            "|20000004|Hawks                |82         |2   |Loser |\n",
            "|20000005|Pistons              |104        |1   |Winner|\n",
            "|20000005|Raptors              |95         |2   |Loser |\n",
            "|20000006|Kings                |100        |1   |Winner|\n",
            "|20000006|Bulls                |81         |2   |Loser |\n",
            "|20000007|Mavericks            |97         |1   |Winner|\n",
            "|20000007|Bucks                |93         |2   |Loser |\n",
            "|20000008|Timberwolves         |106        |1   |Winner|\n",
            "|20000008|Rockets              |98         |2   |Loser |\n",
            "|20000009|Spurs                |98         |1   |Winner|\n",
            "|20000009|Pacers               |85         |2   |Loser |\n",
            "|20000010|Jazz                 |107        |1   |Winner|\n",
            "|20000010|Clippers             |94         |2   |Loser |\n",
            "+--------+---------------------+-----------+----+------+\n",
            "only showing top 20 rows\n",
            "\n"
          ]
        }
      ]
    },
    {
      "cell_type": "code",
      "source": [
        "# Filter the game results to include only the \"Loser\" teams\n",
        "losses = game_results.filter(\n",
        "    (F.col(\"RESULT\") == \"Loser\") & (F.col(\"PLAYER1_TEAM_NICKNAME\").isNotNull())\n",
        ")"
      ],
      "metadata": {
        "id": "EeOfdDX35ijO"
      },
      "execution_count": 23,
      "outputs": []
    },
    {
      "cell_type": "code",
      "source": [
        "# Group by PLAYER1_TEAM_NICKNAME and count the number of losses for each team\n",
        "team_losses = losses.groupBy(\"PLAYER1_TEAM_NICKNAME\").agg(\n",
        "    F.count(\"RESULT\").alias(\"NUMBER_OF_LOSSES\")\n",
        ")"
      ],
      "metadata": {
        "id": "1LaXCLu05zHX"
      },
      "execution_count": 24,
      "outputs": []
    },
    {
      "cell_type": "code",
      "source": [
        "# Sort the teams by the number of losses in descending order\n",
        "team_losses_sorted = team_losses.orderBy(F.col(\"NUMBER_OF_LOSSES\").desc())\n",
        "team_losses_sorted.show(truncate=False)"
      ],
      "metadata": {
        "colab": {
          "base_uri": "https://localhost:8080/"
        },
        "id": "cfR71QxL5iSm",
        "outputId": "3f32ee78-30b4-4f6f-a688-e85da900a20f"
      },
      "execution_count": 25,
      "outputs": [
        {
          "output_type": "stream",
          "name": "stdout",
          "text": [
            "+---------------------+----------------+\n",
            "|PLAYER1_TEAM_NICKNAME|NUMBER_OF_LOSSES|\n",
            "+---------------------+----------------+\n",
            "|Bulls                |67              |\n",
            "|Warriors             |65              |\n",
            "|Wizards              |63              |\n",
            "|Grizzlies            |59              |\n",
            "|Hawks                |57              |\n",
            "|Nets                 |56              |\n",
            "|Cavaliers            |52              |\n",
            "|Clippers             |51              |\n",
            "|Pistons              |50              |\n",
            "|Celtics              |46              |\n",
            "|Nuggets              |42              |\n",
            "|Pacers               |41              |\n",
            "|Magic                |39              |\n",
            "|SuperSonics          |38              |\n",
            "|Rockets              |37              |\n",
            "|Hornets              |36              |\n",
            "|Raptors              |35              |\n",
            "|Timberwolves         |35              |\n",
            "|Knicks               |34              |\n",
            "|Trail Blazers        |32              |\n",
            "+---------------------+----------------+\n",
            "only showing top 20 rows\n",
            "\n"
          ]
        }
      ]
    },
    {
      "cell_type": "markdown",
      "source": [
        "# Task - 3 - Machine Learning"
      ],
      "metadata": {
        "id": "To0yMs5OJ_P0"
      }
    },
    {
      "cell_type": "code",
      "source": [
        "# Perform a left join to retain all records from cleaned data\n",
        "merged_data = data.join(\n",
        "    cleaned_data.select(\"GAME_ID\", \"EVENTID\", \"PLAY_SCORE\"),\n",
        "    on=[\"GAME_ID\", \"EVENTID\"],\n",
        "    how=\"left\"\n",
        ")"
      ],
      "metadata": {
        "id": "6F-WsMwMKNcx"
      },
      "execution_count": 26,
      "outputs": []
    },
    {
      "cell_type": "code",
      "source": [
        "# Fill null values in the PLAY_SCORE column with 0\n",
        "new_data = merged_data.withColumn(\n",
        "    \"PLAY_SCORE\",\n",
        "    F.when(F.col(\"PLAY_SCORE\").isNull(), 0).otherwise(F.col(\"PLAY_SCORE\"))\n",
        ")\n",
        "\n",
        "# Show the resulting DataFrame\n",
        "new_data.show()"
      ],
      "metadata": {
        "colab": {
          "base_uri": "https://localhost:8080/"
        },
        "id": "R9hTORlYKE-d",
        "outputId": "12b0e52a-5e87-433c-82a1-da643734341f"
      },
      "execution_count": 27,
      "outputs": [
        {
          "output_type": "stream",
          "name": "stdout",
          "text": [
            "+--------+-------+--------+--------------------+-------------------+------+----------+----------------+-------------------------+-----------------+---------------+---------------------+----------+------------+-------------------------+-----------------+---------------+---------------------+----------+-------------+-------------------------+-----------------+---------------+---------------------+------+-----------+--------------------+-------------+-------------+------+------+----------+\n",
            "| GAME_ID|EVENTID|EVENTNUM|     HOMEDESCRIPTION|       PCTIMESTRING|PERIOD|PLAYER1_ID|    PLAYER1_NAME|PLAYER1_TEAM_ABBREVIATION|PLAYER1_TEAM_CITY|PLAYER1_TEAM_ID|PLAYER1_TEAM_NICKNAME|PLAYER2_ID|PLAYER2_NAME|PLAYER2_TEAM_ABBREVIATION|PLAYER2_TEAM_CITY|PLAYER2_TEAM_ID|PLAYER2_TEAM_NICKNAME|PLAYER3_ID| PLAYER3_NAME|PLAYER3_TEAM_ABBREVIATION|PLAYER3_TEAM_CITY|PLAYER3_TEAM_ID|PLAYER3_TEAM_NICKNAME| SCORE|SCOREMARGIN|  VISITORDESCRIPTION|CLEANED_SCORE|POINTS_SCORED|WINNER| LOSER|PLAY_SCORE|\n",
            "+--------+-------+--------+--------------------+-------------------+------+----------+----------------+-------------------------+-----------------+---------------+---------------------+----------+------------+-------------------------+-----------------+---------------+---------------------+----------+-------------+-------------------------+-----------------+---------------+---------------------+------+-----------+--------------------+-------------+-------------+------+------+----------+\n",
            "|20000001|      0|       0|                NULL|2024-12-14 12:00:00|     1|         0|            NULL|                     NULL|             NULL|           NULL|                 NULL|         0|        NULL|                     NULL|             NULL|           NULL|                 NULL|         0|         NULL|                     NULL|             NULL|           NULL|                 NULL|  NULL|       NULL|                NULL|         NULL|            0| 76ers|Knicks|         0|\n",
            "|20000001|      1|       1|Jump Ball Camby v...|2024-12-14 12:00:00|     1|       948|    Marcus Camby|                      NYK|         New York|     1610612752|               Knicks|       689|Theo Ratliff|                      PHI|     Philadelphia|     1610612755|                76ers|       275|Allan Houston|                      NYK|         New York|     1610612752|               Knicks|  NULL|       NULL|                NULL|         NULL|            0| 76ers|Knicks|         0|\n",
            "|20000001|      2|       2|MISS Sprewell 6' ...|2024-12-14 11:41:00|     1|        84|Latrell Sprewell|                      NYK|         New York|     1610612752|               Knicks|         0|        NULL|                     NULL|             NULL|           NULL|                 NULL|       689| Theo Ratliff|                      PHI|     Philadelphia|     1610612755|                76ers|  NULL|       NULL|Ratliff BLOCK (1 ...|         NULL|            0| 76ers|Knicks|         0|\n",
            "|20000001|      3|       3|                NULL|2024-12-14 11:40:00|     1|1610612755|            NULL|                     NULL|             NULL|           NULL|                 NULL|         0|        NULL|                     NULL|             NULL|           NULL|                 NULL|         0|         NULL|                     NULL|             NULL|           NULL|                 NULL|  NULL|       NULL|       76ers Rebound|         NULL|            0| 76ers|Knicks|         0|\n",
            "|20000001|      4|       4|Camby S.FOUL (P1.T1)|2024-12-14 11:29:00|     1|       948|    Marcus Camby|                      NYK|         New York|     1610612752|               Knicks|         0|        NULL|                     NULL|             NULL|           NULL|                 NULL|         0|         NULL|                     NULL|             NULL|           NULL|                 NULL|  NULL|       NULL|                NULL|         NULL|            0| 76ers|Knicks|         0|\n",
            "|20000001|      5|       5|                NULL|2024-12-14 11:29:00|     1|       689|    Theo Ratliff|                      PHI|     Philadelphia|     1610612755|                76ers|         0|        NULL|                     NULL|             NULL|           NULL|                 NULL|         0|         NULL|                     NULL|             NULL|           NULL|                 NULL|Jan-00|         -1|Ratliff Free Thro...|         1-00|            1| 76ers|Knicks|         1|\n",
            "|20000001|      6|       6|                NULL|2024-12-14 11:29:00|     1|       689|    Theo Ratliff|                      PHI|     Philadelphia|     1610612755|                76ers|         0|        NULL|                     NULL|             NULL|           NULL|                 NULL|         0|         NULL|                     NULL|             NULL|           NULL|                 NULL|  NULL|       NULL|MISS Ratliff Free...|         NULL|            0| 76ers|Knicks|         0|\n",
            "|20000001|      7|       7|Ward REBOUND (Off...|2024-12-14 11:28:00|     1|       369|    Charlie Ward|                      NYK|         New York|     1610612752|               Knicks|         0|        NULL|                     NULL|             NULL|           NULL|                 NULL|         0|         NULL|                     NULL|             NULL|           NULL|                 NULL|  NULL|       NULL|                NULL|         NULL|            0| 76ers|Knicks|         0|\n",
            "|20000001|      8|       8|                NULL|2024-12-14 11:18:00|     1|       689|    Theo Ratliff|                      PHI|     Philadelphia|     1610612755|                76ers|         0|        NULL|                     NULL|             NULL|           NULL|                 NULL|         0|         NULL|                     NULL|             NULL|           NULL|                 NULL|  NULL|       NULL|Ratliff S.FOUL (P...|         NULL|            0| 76ers|Knicks|         0|\n",
            "|20000001|      9|       9|Camby Free Throw ...|2024-12-14 11:18:00|     1|       948|    Marcus Camby|                      NYK|         New York|     1610612752|               Knicks|         0|        NULL|                     NULL|             NULL|           NULL|                 NULL|         0|         NULL|                     NULL|             NULL|           NULL|                 NULL| 1-Jan|        TIE|                NULL|          1-1|            1| 76ers|Knicks|         1|\n",
            "|20000001|     10|      10|Camby Free Throw ...|2024-12-14 11:18:00|     1|       948|    Marcus Camby|                      NYK|         New York|     1610612752|               Knicks|         0|        NULL|                     NULL|             NULL|           NULL|                 NULL|         0|         NULL|                     NULL|             NULL|           NULL|                 NULL| 2-Jan|          1|                NULL|          2-1|            1| 76ers|Knicks|         1|\n",
            "|20000001|     11|      11|                NULL|2024-12-14 11:08:00|     1|       947|   Allen Iverson|                      PHI|     Philadelphia|     1610612755|                76ers|         0|        NULL|                     NULL|             NULL|           NULL|                 NULL|         0|         NULL|                     NULL|             NULL|           NULL|                 NULL|  NULL|       NULL|MISS Iverson 20' ...|         NULL|            0| 76ers|Knicks|         0|\n",
            "|20000001|     12|      12|Camby REBOUND (Of...|2024-12-14 11:06:00|     1|       948|    Marcus Camby|                      NYK|         New York|     1610612752|               Knicks|         0|        NULL|                     NULL|             NULL|           NULL|                 NULL|         0|         NULL|                     NULL|             NULL|           NULL|                 NULL|  NULL|       NULL|                NULL|         NULL|            0| 76ers|Knicks|         0|\n",
            "|20000001|     13|      13|MISS Houston 15' ...|2024-12-14 10:53:00|     1|       275|   Allan Houston|                      NYK|         New York|     1610612752|               Knicks|         0|        NULL|                     NULL|             NULL|           NULL|                 NULL|         0|         NULL|                     NULL|             NULL|           NULL|                 NULL|  NULL|       NULL|                NULL|         NULL|            0| 76ers|Knicks|         0|\n",
            "|20000001|     14|      14|Ward REBOUND (Off...|2024-12-14 10:50:00|     1|       369|    Charlie Ward|                      NYK|         New York|     1610612752|               Knicks|         0|        NULL|                     NULL|             NULL|           NULL|                 NULL|         0|         NULL|                     NULL|             NULL|           NULL|                 NULL|  NULL|       NULL|                NULL|         NULL|            0| 76ers|Knicks|         0|\n",
            "|20000001|     15|      15|Ward Bad Pass Tur...|2024-12-14 10:49:00|     1|       369|    Charlie Ward|                      NYK|         New York|     1610612752|               Knicks|         0|        NULL|                     NULL|             NULL|           NULL|                 NULL|         0|         NULL|                     NULL|             NULL|           NULL|                 NULL|  NULL|       NULL|                NULL|         NULL|            0| 76ers|Knicks|         0|\n",
            "|20000001|     16|      16|                NULL|2024-12-14 10:35:00|     1|       238|     Tyrone Hill|                      PHI|     Philadelphia|     1610612755|                76ers|         0|        NULL|                     NULL|             NULL|           NULL|                 NULL|         0|         NULL|                     NULL|             NULL|           NULL|                 NULL|  NULL|       NULL|MISS Hill 10' Jum...|         NULL|            0| 76ers|Knicks|         0|\n",
            "|20000001|     17|      17|Sprewell REBOUND ...|2024-12-14 10:34:00|     1|        84|Latrell Sprewell|                      NYK|         New York|     1610612752|               Knicks|         0|        NULL|                     NULL|             NULL|           NULL|                 NULL|         0|         NULL|                     NULL|             NULL|           NULL|                 NULL|  NULL|       NULL|                NULL|         NULL|            0| 76ers|Knicks|         0|\n",
            "|20000001|     18|      18|MISS Sprewell 14'...|2024-12-14 10:19:00|     1|        84|Latrell Sprewell|                      NYK|         New York|     1610612752|               Knicks|         0|        NULL|                     NULL|             NULL|           NULL|                 NULL|         0|         NULL|                     NULL|             NULL|           NULL|                 NULL|  NULL|       NULL|                NULL|         NULL|            0| 76ers|Knicks|         0|\n",
            "|20000001|     19|      19|                NULL|2024-12-14 10:18:00|     1|       248|    George Lynch|                      PHI|     Philadelphia|     1610612755|                76ers|         0|        NULL|                     NULL|             NULL|           NULL|                 NULL|         0|         NULL|                     NULL|             NULL|           NULL|                 NULL|  NULL|       NULL|Lynch REBOUND (Of...|         NULL|            0| 76ers|Knicks|         0|\n",
            "+--------+-------+--------+--------------------+-------------------+------+----------+----------------+-------------------------+-----------------+---------------+---------------------+----------+------------+-------------------------+-----------------+---------------+---------------------+----------+-------------+-------------------------+-----------------+---------------+---------------------+------+-----------+--------------------+-------------+-------------+------+------+----------+\n",
            "only showing top 20 rows\n",
            "\n"
          ]
        }
      ]
    },
    {
      "cell_type": "code",
      "source": [
        "# Determine total points scored by each team per game\n",
        "team_scores = (\n",
        "    new_data.groupBy(\"GAME_ID\", \"PLAYER1_TEAM_NICKNAME\")\n",
        "    .agg(F.sum(\"PLAY_SCORE\").alias(\"TOTAL_POINTS\"))\n",
        ")"
      ],
      "metadata": {
        "id": "Uo_2eTgEKvgN"
      },
      "execution_count": 28,
      "outputs": []
    },
    {
      "cell_type": "code",
      "source": [
        "# Determine winners and losers\n",
        "game_results = (\n",
        "    team_scores.alias(\"a\")\n",
        "    .join(\n",
        "        team_scores.alias(\"b\"),\n",
        "        (F.col(\"a.GAME_ID\") == F.col(\"b.GAME_ID\")) &\n",
        "        (F.col(\"a.PLAYER1_TEAM_NICKNAME\") != F.col(\"b.PLAYER1_TEAM_NICKNAME\")),\n",
        "    )\n",
        "    .select(\n",
        "        F.col(\"a.GAME_ID\").alias(\"Game_ID\"),\n",
        "        F.col(\"a.PLAYER1_TEAM_NICKNAME\").alias(\"Winner\"),\n",
        "        F.col(\"b.PLAYER1_TEAM_NICKNAME\").alias(\"Loser\"),\n",
        "    )\n",
        "    .filter(F.col(\"a.TOTAL_POINTS\") > F.col(\"b.TOTAL_POINTS\"))\n",
        ")"
      ],
      "metadata": {
        "id": "AJ4ouaWsLBA2"
      },
      "execution_count": 29,
      "outputs": []
    },
    {
      "cell_type": "code",
      "source": [
        "# Filter players on the winning team and calculate total points per player\n",
        "winning_players_total_score = (\n",
        "    new_data.alias(\"players\")\n",
        "    .join(game_results.alias(\"results\"),\n",
        "          (F.col(\"players.GAME_ID\") == F.col(\"results.Game_ID\")) &\n",
        "          (F.col(\"players.PLAYER1_TEAM_NICKNAME\") == F.col(\"results.Winner\")),\n",
        "          \"inner\")\n",
        "    .groupBy(\"players.GAME_ID\", \"players.PLAYER1_NAME\", \"players.PLAYER1_TEAM_NICKNAME\", \"results.Loser\")\n",
        "    .agg(F.sum(\"players.PLAY_SCORE\").alias(\"Total_Points\"))\n",
        "    .select(\n",
        "        F.col(\"GAME_ID\").alias(\"Game_ID\"),\n",
        "        F.col(\"PLAYER1_NAME\").alias(\"Player_Name\"),\n",
        "        F.col(\"PLAYER1_TEAM_NICKNAME\").alias(\"Team\"),\n",
        "        F.col(\"Loser\").alias(\"Opponent\"),\n",
        "        F.col(\"Total_Points\").alias(\"Points_Scored\")\n",
        "    )\n",
        ")\n",
        "\n",
        "# Show the results\n",
        "winning_players_total_score.show()"
      ],
      "metadata": {
        "colab": {
          "base_uri": "https://localhost:8080/"
        },
        "id": "bu7U0dthKwQZ",
        "outputId": "f5a8fe02-2af9-4342-c7e2-3fe3d5bafef9"
      },
      "execution_count": 30,
      "outputs": [
        {
          "output_type": "stream",
          "name": "stdout",
          "text": [
            "+--------+------------------+---------+--------+-------------+\n",
            "| Game_ID|       Player_Name|     Team|Opponent|Points_Scored|\n",
            "+--------+------------------+---------+--------+-------------+\n",
            "|20000002|     Lamond Murray|Cavaliers|    Nets|           17|\n",
            "|20000002|Clar. Weatherspoon|Cavaliers|    Nets|            8|\n",
            "|20000002|      Andre Miller|Cavaliers|    Nets|            8|\n",
            "|20000002|     Matt Harpring|Cavaliers|    Nets|           16|\n",
            "|20000002|Zydrunas Ilgauskas|Cavaliers|    Nets|            0|\n",
            "|20000002|     Wesley Person|Cavaliers|    Nets|            6|\n",
            "|20000002|     Chris Gatling|Cavaliers|    Nets|           11|\n",
            "|20000002|       Bimbo Coles|Cavaliers|    Nets|           15|\n",
            "|20000002|    Robert Traylor|Cavaliers|    Nets|            5|\n",
            "|20000002|  Cedric Henderson|Cavaliers|    Nets|            0|\n",
            "|20000002|        Chris Mihm|Cavaliers|    Nets|            0|\n",
            "|20000004|       Baron Davis|  Hornets|   Hawks|           20|\n",
            "|20000004|    Jamal Mashburn|  Hornets|   Hawks|           23|\n",
            "|20000004|    Elden Campbell|  Hornets|   Hawks|           13|\n",
            "|20000004|      David Wesley|  Hornets|   Hawks|           18|\n",
            "|20000004|        P.J. Brown|  Hornets|   Hawks|           14|\n",
            "|20000004| Eldridge Recasner|  Hornets|   Hawks|            4|\n",
            "|20000004|       Otis Thorpe|  Hornets|   Hawks|            0|\n",
            "|20000004|    Eddie Robinson|  Hornets|   Hawks|           10|\n",
            "|20000004|   Jamaal Magloire|  Hornets|   Hawks|            4|\n",
            "+--------+------------------+---------+--------+-------------+\n",
            "only showing top 20 rows\n",
            "\n"
          ]
        }
      ]
    },
    {
      "cell_type": "markdown",
      "source": [
        "## 1. Prepare the data"
      ],
      "metadata": {
        "id": "LmCmzr5xMChe"
      }
    },
    {
      "cell_type": "code",
      "source": [
        "model_data = winning_players_total_score.select(\n",
        "    F.col(\"Player_Name\").alias(\"Player\"),\n",
        "    F.col(\"Opponent\"),\n",
        "    F.col(\"Points_Scored\").alias(\"Actual_Score\")\n",
        ")"
      ],
      "metadata": {
        "id": "Mj_w6WtTLTTI"
      },
      "execution_count": 31,
      "outputs": []
    },
    {
      "cell_type": "markdown",
      "source": [
        "## 2. Encode categorical variables"
      ],
      "metadata": {
        "id": "Vhcx68nqMVPg"
      }
    },
    {
      "cell_type": "code",
      "source": [
        "from pyspark.ml.feature import StringIndexer\n",
        "\n",
        "player_indexer = StringIndexer(inputCol=\"Player\", outputCol=\"Player_Index\")\n",
        "opponent_indexer = StringIndexer(inputCol=\"Opponent\", outputCol=\"Opponent_Index\")"
      ],
      "metadata": {
        "id": "9Z1qXeceMZLQ"
      },
      "execution_count": 32,
      "outputs": []
    },
    {
      "cell_type": "code",
      "source": [
        "indexed_data = player_indexer.fit(model_data).transform(model_data)\n",
        "indexed_data = opponent_indexer.fit(indexed_data).transform(indexed_data)"
      ],
      "metadata": {
        "id": "p3VxuEVcM1KR"
      },
      "execution_count": 33,
      "outputs": []
    },
    {
      "cell_type": "code",
      "source": [
        "from pyspark.ml.feature import OneHotEncoder\n",
        "\n",
        "# OneHotEncoder for Player and Opponent\n",
        "player_encoder = OneHotEncoder(inputCol=\"Player_Index\", outputCol=\"Player_OneHot\")\n",
        "opponent_encoder = OneHotEncoder(inputCol=\"Opponent_Index\", outputCol=\"Opponent_OneHot\")\n",
        "\n",
        "encoded_data = player_encoder.fit(indexed_data).transform(indexed_data)\n",
        "encoded_data = opponent_encoder.fit(encoded_data).transform(encoded_data)"
      ],
      "metadata": {
        "id": "t0akYCzuND7z"
      },
      "execution_count": 34,
      "outputs": []
    },
    {
      "cell_type": "markdown",
      "source": [
        "## 3. Assemble features"
      ],
      "metadata": {
        "id": "YKRhGhvVNcqW"
      }
    },
    {
      "cell_type": "code",
      "source": [
        "from pyspark.ml.feature import VectorAssembler\n",
        "\n",
        "assembler = VectorAssembler(\n",
        "    inputCols=[\"Player_OneHot\", \"Opponent_OneHot\"],\n",
        "    outputCol=\"features\"\n",
        ")\n",
        "\n",
        "data_features = assembler.transform(encoded_data)"
      ],
      "metadata": {
        "id": "g1SGhf1cNbfD"
      },
      "execution_count": 35,
      "outputs": []
    },
    {
      "cell_type": "markdown",
      "source": [
        "## 4. Split the Data"
      ],
      "metadata": {
        "id": "G3JuYwB_N2Aq"
      }
    },
    {
      "cell_type": "code",
      "source": [
        "train_data, test_data = data_features.randomSplit([0.8, 0.2], seed=42)"
      ],
      "metadata": {
        "id": "7BgxBrCUN4rt"
      },
      "execution_count": 36,
      "outputs": []
    },
    {
      "cell_type": "markdown",
      "source": [
        "## 5. Model Training, Prediction, and Evaluation"
      ],
      "metadata": {
        "id": "tApRcgqwN_25"
      }
    },
    {
      "cell_type": "code",
      "source": [
        "from pyspark.ml.regression import (\n",
        "    LinearRegression,\n",
        "    RandomForestRegressor,\n",
        "    GBTRegressor,\n",
        "    DecisionTreeRegressor\n",
        ")\n",
        "from pyspark.ml.evaluation import RegressionEvaluator"
      ],
      "metadata": {
        "id": "lbRYgkdqPOlj"
      },
      "execution_count": 37,
      "outputs": []
    },
    {
      "cell_type": "code",
      "source": [
        "# build the models\n",
        "models = {\n",
        "    \"Linear Regression\": LinearRegression(featuresCol=\"features\", labelCol=\"Actual_Score\"),\n",
        "    \"Random Forest Regression\": RandomForestRegressor(featuresCol=\"features\", labelCol=\"Actual_Score\"),\n",
        "    \"GBT Regression\": GBTRegressor(featuresCol=\"features\", labelCol=\"Actual_Score\"),\n",
        "    \"Decision Tree Regression\": DecisionTreeRegressor(featuresCol=\"features\", labelCol=\"Actual_Score\"),\n",
        "}"
      ],
      "metadata": {
        "id": "XCNXabDBPZ3H"
      },
      "execution_count": 38,
      "outputs": []
    },
    {
      "cell_type": "code",
      "source": [
        "# Train and Evaluate every model\n",
        "results = []\n",
        "evaluator = RegressionEvaluator(labelCol=\"Actual_Score\", predictionCol=\"prediction\", metricName=\"rmse\")\n",
        "\n",
        "for name, model in models.items():\n",
        "    # Train the model\n",
        "    trained_model = model.fit(train_data)\n",
        "    # Predict on the test data\n",
        "    predictions = trained_model.transform(test_data)\n",
        "    # Evaluate RMSE\n",
        "    rmse = evaluator.evaluate(predictions)\n",
        "    # Evaluate R2\n",
        "    r2 = evaluator.setMetricName(\"r2\").evaluate(predictions)\n",
        "    # Append results\n",
        "    results.append((name, rmse, r2, predictions.select(\"Player\", \"Opponent\", \"Actual_Score\", \"prediction\")))"
      ],
      "metadata": {
        "id": "8osvug35Psov"
      },
      "execution_count": 39,
      "outputs": []
    },
    {
      "cell_type": "code",
      "source": [
        "print(\"Model Comparison Results:\")\n",
        "for name, rmse, r2, predictions_df in results:\n",
        "    print(f\"\\nModel: {name}\")\n",
        "    print(f\"  RMSE: {rmse:.3f}\")\n",
        "    print(f\"  R2: {r2:.3f}\")"
      ],
      "metadata": {
        "colab": {
          "base_uri": "https://localhost:8080/"
        },
        "id": "YAZ07kvoQErT",
        "outputId": "0a34fb1b-6866-432c-c1bf-d8ec8d738061"
      },
      "execution_count": 40,
      "outputs": [
        {
          "output_type": "stream",
          "name": "stdout",
          "text": [
            "Model Comparison Results:\n",
            "\n",
            "Model: Linear Regression\n",
            "  RMSE: 6.687\n",
            "  R2: 0.483\n",
            "\n",
            "Model: Random Forest Regression\n",
            "  RMSE: 0.108\n",
            "  R2: 0.108\n",
            "\n",
            "Model: GBT Regression\n",
            "  RMSE: 0.260\n",
            "  R2: 0.260\n",
            "\n",
            "Model: Decision Tree Regression\n",
            "  RMSE: 0.077\n",
            "  R2: 0.077\n"
          ]
        }
      ]
    },
    {
      "cell_type": "markdown",
      "source": [
        "## 6. Hyper Parameter Tuning"
      ],
      "metadata": {
        "id": "Td58hOKvQYPB"
      }
    },
    {
      "cell_type": "code",
      "source": [
        "from pyspark.ml.tuning import CrossValidator, ParamGridBuilder"
      ],
      "metadata": {
        "id": "Fhk635ghQeLR"
      },
      "execution_count": 41,
      "outputs": []
    },
    {
      "cell_type": "code",
      "source": [
        "# Define the Linear Regression model\n",
        "linear_model = LinearRegression(featuresCol=\"features\", labelCol=\"Actual_Score\")\n",
        "\n",
        "# Create a parameter grid for hyperparameter tuning\n",
        "paramGrid = ParamGridBuilder().addGrid(linear_model.regParam,\n",
        " [0.01, 0.1, 0.5, 1.0]).addGrid(linear_model.elasticNetParam,\n",
        "  [0.0, 0.5, 1.0]).build()\n",
        "\n",
        "# Define the evaluator for RMSE\n",
        "evaluator = RegressionEvaluator(labelCol=\"Actual_Score\",\n",
        "                                predictionCol=\"prediction\",\n",
        "                                metricName=\"rmse\")\n",
        "\n",
        "# Set up CrossValidator\n",
        "crossval = CrossValidator(estimator=linear_model,\n",
        "                          estimatorParamMaps=paramGrid,\n",
        "                          evaluator=evaluator,\n",
        "                          numFolds=5)"
      ],
      "metadata": {
        "id": "u63a8y-6QteI"
      },
      "execution_count": 42,
      "outputs": []
    },
    {
      "cell_type": "code",
      "source": [
        "# Train the model with cross-validation\n",
        "cv_model = crossval.fit(train_data)\n",
        "\n",
        "# Get the best model\n",
        "best_model = cv_model.bestModel\n",
        "\n",
        "# Evaluate the model on test data\n",
        "predictions = best_model.transform(test_data)\n",
        "\n",
        "# Calculate RMSE and R2 on test data\n",
        "rmse = evaluator.evaluate(predictions)\n",
        "r2_evaluator = RegressionEvaluator(labelCol=\"Actual_Score\",\n",
        "                                   predictionCol=\"prediction\",\n",
        "                                   metricName=\"r2\")\n",
        "r2 = r2_evaluator.evaluate(predictions)"
      ],
      "metadata": {
        "id": "lDRooUQDQ4dt"
      },
      "execution_count": 43,
      "outputs": []
    },
    {
      "cell_type": "code",
      "source": [
        "# Show predictions\n",
        "print(\"Best Linear Regression Model Predictions (Top 5):\")\n",
        "predictions.select(\"Player\", \"Opponent\", \"Actual_Score\", \"prediction\").show(5)\n",
        "\n",
        "# Output the evaluation metrics\n",
        "print(f\"Best Linear Regression Model - RMSE: {rmse}, R2: {r2}\")\n",
        "\n",
        "# Print the best hyperparameters\n",
        "print(f\"Best regParam: {best_model._java_obj.getRegParam()}\")\n",
        "print(f\"Best elasticNetParam: {best_model._java_obj.getElasticNetParam()}\")"
      ],
      "metadata": {
        "colab": {
          "base_uri": "https://localhost:8080/"
        },
        "id": "IyVKEOUGRJ1c",
        "outputId": "5fb66478-baa0-4890-fdd2-08019ad44409"
      },
      "execution_count": 44,
      "outputs": [
        {
          "output_type": "stream",
          "name": "stdout",
          "text": [
            "Best Linear Regression Model Predictions (Top 5):\n",
            "+----------+---------+------------+-----------------+\n",
            "|    Player| Opponent|Actual_Score|       prediction|\n",
            "+----------+---------+------------+-----------------+\n",
            "|A.C. Green|    Bulls|           0|5.373035715762285|\n",
            "|A.C. Green|  Celtics|          12|5.629694488773146|\n",
            "|A.C. Green|Grizzlies|           2|5.391726663948985|\n",
            "|A.C. Green|     Jazz|           0|4.786912338401125|\n",
            "|A.C. Green|  Raptors|          14|5.833808353523322|\n",
            "+----------+---------+------------+-----------------+\n",
            "only showing top 5 rows\n",
            "\n",
            "Best Linear Regression Model - RMSE: 6.686678555332445, R2: 0.48263004170596113\n",
            "Best regParam: 0.01\n",
            "Best elasticNetParam: 1.0\n"
          ]
        }
      ]
    }
  ]
}